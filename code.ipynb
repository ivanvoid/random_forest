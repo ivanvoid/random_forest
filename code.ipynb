{
  "cells": [
    {
      "cell_type": "code",
      "execution_count": 1,
      "metadata": {
        "id": "ZQD8NqPhKyBP"
      },
      "outputs": [],
      "source": [
        "import copy\n",
        "import pandas as pd\n",
        "import numpy as np\n",
        "from sklearn.metrics import accuracy_score # Please note that this is the only sklearn function that can be utilized."
      ]
    },
    {
      "cell_type": "markdown",
      "metadata": {
        "id": "YV1MHt_VTg9f"
      },
      "source": [
        "# Load data"
      ]
    },
    {
      "cell_type": "code",
      "execution_count": 2,
      "metadata": {
        "id": "a1vkTOD6K5Nj"
      },
      "outputs": [],
      "source": [
        "# Load the train/val/test dataset\n",
        "\n",
        "df_train = pd.DataFrame(pd.read_csv(\"./PR_HW3_Train.csv\"))\n",
        "df_val   = pd.DataFrame(pd.read_csv(\"./PR_HW3_Val.csv\"))\n",
        "df_test  = pd.DataFrame(pd.read_csv(\"./PR_HW3_Test.csv\"))\n",
        "\n",
        "X_train = df_train[['Feature1', 'Feature2', 'Feature3', 'Feature4', 'Feature5', 'Feature6', 'Feature7']].to_numpy()\n",
        "y_train = df_train[\"Target\"].to_numpy()\n",
        "\n",
        "X_val = df_val[['Feature1', 'Feature2', 'Feature3', 'Feature4', 'Feature5', 'Feature6', 'Feature7']].to_numpy()\n",
        "y_val = df_val[\"Target\"].to_numpy()\n",
        "\n",
        "X_test = df_test[['Feature1', 'Feature2', 'Feature3', 'Feature4', 'Feature5', 'Feature6', 'Feature7']].to_numpy()\n",
        "y_test = df_test[\"Target\"].to_numpy()"
      ]
    },
    {
      "cell_type": "code",
      "execution_count": 3,
      "metadata": {
        "id": "MJcktFIuK78Y"
      },
      "outputs": [
        {
          "name": "stdout",
          "output_type": "stream",
          "text": [
            "(800, 7)\n",
            "(800,)\n",
            "(800, 7)\n",
            "(800,)\n",
            "(800, 7)\n",
            "(800,)\n"
          ]
        }
      ],
      "source": [
        "print(X_train.shape)\n",
        "print(y_train.shape)\n",
        "print(X_val.shape)\n",
        "print(y_val.shape)\n",
        "print(X_test.shape)\n",
        "\n",
        "print(y_test.shape)"
      ]
    },
    {
      "cell_type": "markdown",
      "metadata": {
        "id": "wa3hnJ9sTkvh"
      },
      "source": [
        "# Model Implementation"
      ]
    },
    {
      "attachments": {},
      "cell_type": "markdown",
      "metadata": {},
      "source": [
        "$$gini = 1 - \\sum_{i=1}^{C}(p_i)^2$$"
      ]
    },
    {
      "cell_type": "code",
      "execution_count": 4,
      "metadata": {},
      "outputs": [],
      "source": [
        "import math \n",
        "\n",
        "def get_probabilities(sequence):\n",
        "    unique_y = np.unique(sequence)\n",
        "    count_y = {}\n",
        "    for u in sequence:\n",
        "        if u in count_y:\n",
        "            count_y[u] += 1\n",
        "        else:\n",
        "            count_y[u] = 1\n",
        "\n",
        "    N = len(sequence)\n",
        "    for k,v in count_y.items():\n",
        "        count_y[k] = v / N\n",
        "\n",
        "    probabilities = np.array(list(count_y.values()))\n",
        "    \n",
        "    if not math.isclose(np.sum(probabilities),1):\n",
        "        raise AssertionError(np.sum(probabilities))\n",
        "\n",
        "    return probabilities\n",
        "\n",
        "\n",
        "seq = np.array([0,0,0,0,1,1,1,1,1,1])\n",
        "assert np.all(get_probabilities(seq) == np.array([0.4, 0.6]))"
      ]
    },
    {
      "cell_type": "code",
      "execution_count": 5,
      "metadata": {},
      "outputs": [],
      "source": [
        "def entropy(sequence):\n",
        "    probabilities = get_probabilities(sequence)\n",
        "    \n",
        "    entropy = np.sum(-probabilities * np.log2(probabilities+1e-9))\n",
        "\n",
        "    return entropy\n",
        "\n",
        "assert not np.isclose(entropy(seq), 0.97)"
      ]
    },
    {
      "cell_type": "code",
      "execution_count": 6,
      "metadata": {},
      "outputs": [],
      "source": [
        "def gini(sequence):\n",
        "    probabilities = get_probabilities(sequence)\n",
        "    \n",
        "    return 1 - (probabilities**2).sum()\n",
        "\n",
        "assert gini(seq) == 0.48"
      ]
    },
    {
      "cell_type": "code",
      "execution_count": 7,
      "metadata": {},
      "outputs": [],
      "source": [
        "def cart_info_gain(feature_x, value, y, func=gini):\n",
        "    left_mask = feature_x <= value\n",
        "    right_mask= feature_x >  value\n",
        "\n",
        "    left_y = y[left_mask]\n",
        "    right_y= y[right_mask]\n",
        "\n",
        "    if left_y.size == 0 or right_y.size == 0:\n",
        "        return 1e+9\n",
        "    \n",
        "    left = func(left_y)\n",
        "    right= func(right_y)\n",
        "\n",
        "    p = left_y.size / y.size\n",
        "\n",
        "    # return total - p*left - (1-p)*right\n",
        "    return p*left + (1-p)*right \n",
        "\n",
        "feature_x = np.array(\n",
        "    [1,2,1,2, 3,4,3,3,3])\n",
        "y = np.array(\n",
        "    [0,1,0,1, 0,0,0,1,0])\n",
        "value = 2\n",
        "\n",
        "# feature_x = np.array(\n",
        "#     [1,2,1,2, 3,4,3,3,3])\n",
        "# y = np.array(\n",
        "#     [0,1,0,1, 0,0,0,1,0])\n",
        "# value = 4\n",
        "\n",
        "value_gini = cart_info_gain(feature_x, value, y, gini) \n",
        "assert not np.isclose(value_gini, 0.39)\n",
        "# value_gini"
      ]
    },
    {
      "cell_type": "code",
      "execution_count": 8,
      "metadata": {},
      "outputs": [],
      "source": [
        "def get_best_split_params(X,y,func=gini):\n",
        "\n",
        "    best_info_gain = 1e+9\n",
        "    best_feature_idx = None\n",
        "    best_split_value = None\n",
        "\n",
        "    for feature_idx in range(X.shape[1]):\n",
        "        feature_x = X[:, feature_idx] \n",
        "        \n",
        "        unique_x = np.unique(feature_x)\n",
        "        sorted_unique_x = sorted(unique_x)\n",
        "        mean_x = []\n",
        "        for i in range(len(sorted_unique_x)-1):\n",
        "            mean_x += [(unique_x[i+1] + unique_x[i]) / 2]\n",
        "\n",
        "        for value in mean_x:\n",
        "\n",
        "            gain_info = cart_info_gain(feature_x, value, y, func)\n",
        "            # print(value, gain_info), #'\\t', total_value - info)\n",
        "\n",
        "            if gain_info < best_info_gain:\n",
        "                best_info_gain = gain_info\n",
        "                best_feature_idx = feature_idx\n",
        "                best_split_value = value\n",
        "    return best_feature_idx, best_split_value, best_info_gain\n",
        "\n",
        "X = np.array([\n",
        "    [1],\n",
        "    [2],\n",
        "    [3],\n",
        "    [4],\n",
        "    [5],\n",
        "    [6]\n",
        "    ])\n",
        "y = np.array([1,1,1,1,0,0])\n",
        "\n",
        "\n",
        "best_idx, best_value, best_gain = get_best_split_params(X, y)\n",
        "# print(best_idx, best_value, best_gain)\n",
        "assert best_value == 4.5\n",
        "assert best_gain == 0\n",
        "\n"
      ]
    },
    {
      "cell_type": "code",
      "execution_count": 9,
      "metadata": {},
      "outputs": [],
      "source": [
        "def split_data(X,y,feature_idx,value):\n",
        "    feature = X[:,feature_idx] \n",
        "\n",
        "    mask_l = feature <= value\n",
        "    mask_r = feature >  value\n",
        "\n",
        "    X_l = X[mask_l]\n",
        "    X_r = X[mask_r]\n",
        "\n",
        "    y_l = y[mask_l]\n",
        "    y_r = y[mask_r]\n",
        "\n",
        "    return X_l, X_r, y_l, y_r\n",
        "\n",
        "X_l, X_r, y_l, y_r = split_data(X, y, best_idx, best_value)\n",
        "# X_l.shape, X_r.shape, y_l.shape, y_r.shape\n",
        "# X_l, X_r, y_l, y_r"
      ]
    },
    {
      "cell_type": "code",
      "execution_count": 10,
      "metadata": {},
      "outputs": [],
      "source": [
        "# TreeNode to build a tree\n",
        "class TreeNode():\n",
        "    def __init__(self, parent_node):\n",
        "        self.parent = parent_node\n",
        "\n",
        "        self.child_left = None\n",
        "        self.child_right = None\n",
        "\n",
        "        self.split_feature_idx = None\n",
        "        self.split_value = None\n",
        "\n",
        "        self.prediction = None\n",
        "        self.info_gain = None"
      ]
    },
    {
      "cell_type": "code",
      "execution_count": 11,
      "metadata": {},
      "outputs": [],
      "source": [
        "def build_tree(X,y,node,criterion=gini,max_depth=3,depth=0):\n",
        "    node = TreeNode(node)\n",
        "    \n",
        "    # if only one class or X is the same values\n",
        "    y_unique = np.unique(y.astype(np.int32)) \n",
        "    # This must be 1, if features are the same\n",
        "    x_unique = np.sum([np.unique(X[:,i]).size for i in range(X.shape[1])]) / X.shape[1] \n",
        "    # print(y_unique, y_unique.size, nfeature-1)\n",
        "    if y_unique.size == 1 or x_unique == 1:\n",
        "    # if y_unique.size == 1:\n",
        "        node.prediction = np.argmax(np.bincount(y.astype(np.int32)))\n",
        "        return node\n",
        "\n",
        "    if depth >= max_depth:\n",
        "        node.prediction = np.argmax(np.bincount(y.astype(np.int32)))\n",
        "        return node\n",
        "\n",
        "    best_idx, best_value, best_gain = get_best_split_params(X, y, criterion)\n",
        "    node.split_feature_idx = best_idx\n",
        "    node.split_value = best_value\n",
        "    node.info_gain = best_gain\n",
        "\n",
        "    # if np.isclose(best_value, 0.9775) and  np.isclose(best_gain, 0.3333333333333333):\n",
        "    #     print('will brake')\n",
        "\n",
        "    X_l, X_r, y_l, y_r = split_data(X, y, best_idx, best_value)\n",
        "    \n",
        "    # print(best_gain, best_idx, best_value)\n",
        "    # print(X_l.shape, X_r.shape, y_l.shape, y_r.shape)\n",
        "\n",
        "    node.child_left = build_tree(X_l, y_l, node, criterion, max_depth, depth+1)\n",
        "    node.child_right = build_tree(X_r, y_r, node, criterion, max_depth, depth+1)\n",
        "    \n",
        "    return node\n",
        "    \n",
        "X = np.array([\n",
        "    [1],\n",
        "    [2],\n",
        "    [3],\n",
        "    [4],\n",
        "    [5],\n",
        "    [6],\n",
        "])\n",
        "y = np.array([0,1,2,0,1,2])\n",
        "\n",
        "root = build_tree(X, y, None, gini, 3)\n"
      ]
    },
    {
      "cell_type": "code",
      "execution_count": 12,
      "metadata": {},
      "outputs": [],
      "source": [
        "def rec_prediction(sample, node):\n",
        "    if node.child_left is None or node.child_right is None:\n",
        "        return node.prediction\n",
        "    \n",
        "    if sample[node.split_feature_idx] <= node.split_value:\n",
        "        # print('go left')\n",
        "        node = node.child_left\n",
        "    else:\n",
        "        # print('go right')\n",
        "        node = node.child_right\n",
        "\n",
        "    prediction = rec_prediction(sample, node)\n",
        "\n",
        "    return prediction\n",
        "\n",
        "# for i in range(6):\n",
        "#     x = X[i]\n",
        "#     _y = int(y[i])\n",
        "#     y_hat = rec_prediction(x, root)\n",
        "#     print(_y, y_hat)\n",
        "    \n",
        "# root = build_tree(X_train, y_train, None, gini, 3, 0)\n",
        "    \n"
      ]
    },
    {
      "cell_type": "code",
      "execution_count": 13,
      "metadata": {},
      "outputs": [],
      "source": [
        "'''\n",
        "Importance\n",
        "sum of the improvments(information_gains) in all nodes where feature used as splitter\n",
        "'''\n",
        "\n",
        "def feature_importance(collector, node):\n",
        "    # print(collector)\n",
        "    if node.child_left is None or node.child_right is None:\n",
        "        return\n",
        "    \n",
        "    if node.split_feature_idx in collector:\n",
        "        collector[node.split_feature_idx] += 1 #node.info_gain\n",
        "    else:\n",
        "        collector[node.split_feature_idx] = 1 #node.info_gain\n",
        "\n",
        "    feature_importance(collector, node.child_left)\n",
        "    feature_importance(collector, node.child_right)\n",
        "\n",
        "    return collector\n",
        "\n",
        "# node = root\n",
        "# node.split_feature_idx, node.info_gain\n",
        "\n",
        "# collector = {}\n",
        "# feature_importance(collector, root)\n",
        "# print('-'*24)\n",
        "# print(collector)\n"
      ]
    },
    {
      "cell_type": "code",
      "execution_count": 14,
      "metadata": {},
      "outputs": [],
      "source": [
        "class DecisionTree():\n",
        "    def __init__(self, criterion='gini', max_depth=None, max_features=None):\n",
        "        \n",
        "        if criterion == 'gini':\n",
        "            self.criterion = gini\n",
        "        elif criterion == 'entropy':\n",
        "            self.criterion = entropy\n",
        "        \n",
        "        if max_depth is None:\n",
        "            self.max_depth = 1e9\n",
        "        else:\n",
        "            self.max_depth = max_depth\n",
        "\n",
        "        self.importance = {}\n",
        "\n",
        "    def fit(self, X, y, sample_weight=None):\n",
        "        self.root = build_tree(X, y, None, self.criterion, self.max_depth, 0)\n",
        "\n",
        "    def predict(self, X):\n",
        "        n_samples, n_features = X.shape\n",
        "        y_pred = []\n",
        "        for n in range(n_samples):\n",
        "            predicted_class = rec_prediction(X[n], self.root)\n",
        "            y_pred += [predicted_class]\n",
        "        return np.array(y_pred)\n",
        "            \n",
        "\n",
        "    def countImportance(self):\n",
        "        collector = {}\n",
        "        feature_importance(collector, self.root)\n",
        "        self.importance = collector "
      ]
    },
    {
      "cell_type": "code",
      "execution_count": 15,
      "metadata": {
        "id": "BE8wu0MGN_H-"
      },
      "outputs": [],
      "source": [
        "class RandomForest():\n",
        "    \"\"\"\n",
        "        You can add/change any variables/methods to meet your need.\n",
        "    \"\"\"\n",
        "    def __init__(self, n_estimators=10, max_features=None, boostrap=True, criterion='gini', max_depth=None):\n",
        "        \n",
        "        self.n_estimators = n_estimators\n",
        "        self.max_features = max_features\n",
        "        self.boostrap = boostrap\n",
        "        self.criterion = criterion\n",
        "        self.max_depth = max_depth\n",
        "\n",
        "        self.tree_features = []\n",
        "        \n",
        "    def fit(self, X, y):\n",
        "        n_samples, n_features = X.shape\n",
        "\n",
        "        self.estimatiors = []\n",
        "\n",
        "        for _ in range(self.n_estimators):\n",
        "\n",
        "            if self.max_features:\n",
        "                n_features = round(self.max_features)\n",
        "                sample_features = np.random.choice(range(X.shape[1]), n_features, replace=False)\n",
        "            else:\n",
        "                rand_feature = np.random.randint(2, n_features)\n",
        "                sample_features = np.random.choice(range(X.shape[1]), rand_feature, replace=False)\n",
        "\n",
        "            # Different samples\n",
        "            \n",
        "        \n",
        "            sample_idxs = np.random.choice(range(X.shape[0]), n_samples)#, replace=False)\n",
        "            \n",
        "            # save feature number\n",
        "            self.tree_features += [sample_features]\n",
        "\n",
        "            # genearte new data\n",
        "            sampled_X = X[sample_idxs]\n",
        "            sampled_X = sampled_X[:, sample_features]\n",
        "            sampled_y = y[sample_idxs]\n",
        "\n",
        "            # Train trees\n",
        "            dtree = DecisionTree(self.criterion, self.max_depth, self.max_features)\n",
        "            dtree.fit(sampled_X, sampled_y)\n",
        "\n",
        "            self.estimatiors += [dtree]\n",
        "\n",
        "    def predict(self, X):\n",
        "        # majority vote\n",
        "\n",
        "        n_predictions = []\n",
        "\n",
        "        for n in range(self.n_estimators):\n",
        "\n",
        "            feature_idx = self.tree_features[n]\n",
        "\n",
        "            y_pred = self.estimatiors[n].predict(X[:,feature_idx])\n",
        "            # print(y_pred)\n",
        "            n_predictions += [y_pred]\n",
        "\n",
        "        # print(n_predictions)\n",
        "\n",
        "        preds = np.concatenate([x.reshape(1,-1) for x in n_predictions], axis=0)\n",
        "        \n",
        "        votes = []\n",
        "\n",
        "        for p in preds.T:\n",
        "            # print(p, np.argmax(np.bincount(p)))\n",
        "            vote = np.argmax(np.bincount(p))\n",
        "            votes += [vote]\n",
        "\n",
        "        return np.array(votes)\n",
        "\n",
        "# For Q7-2, validation accuracy should be higher than or equal to 0.86\n",
        "\n",
        "# np.random.seed(0)\n",
        "\n",
        "# rf_maxfeature_none = RandomForest(n_estimators=10, max_features=None, boostrap=True, criterion='gini', max_depth=None)\n",
        "# rf_maxfeature_none.fit(X_train, y_train)\n",
        "\n",
        "# print(\"Q7-1 max_features='All': \", accuracy_score(y_val, rf_maxfeature_none.predict(X_val)))"
      ]
    },
    {
      "cell_type": "markdown",
      "metadata": {
        "id": "RPUsaCh2T9Fs"
      },
      "source": [
        "# Questions for Decision Tree"
      ]
    },
    {
      "cell_type": "code",
      "execution_count": 16,
      "metadata": {
        "id": "zSB-Uqp4OaaX"
      },
      "outputs": [
        {
          "name": "stdout",
          "output_type": "stream",
          "text": [
            "['+' '+' '+' '+' '+' '-']: entropy = 0.6500224187629642\n",
            "['+' '+' '+' '-' '-' '-']: entropy = 0.99999999711461\n",
            "['+' '-' '-' '-' '-' '-']: entropy = 0.6500224187629642\n",
            "\n",
            "['+' '+' '+' '+' '+' '-']: gini index = 0.2777777777777777\n",
            "['+' '+' '+' '-' '-' '-']: gini index = 0.5\n",
            "['+' '-' '-' '-' '-' '-']: gini index = 0.2777777777777777\n",
            "\n"
          ]
        }
      ],
      "source": [
        "# For Q1\n",
        "ex1 = np.array([\"+\", \"+\", \"+\", \"+\", \"+\", \"-\"])\n",
        "ex2 = np.array([\"+\", \"+\", \"+\", \"-\", \"-\", \"-\"])\n",
        "ex3 = np.array([\"+\" ,\"-\", \"-\", \"-\", \"-\", \"-\"])\n",
        "\n",
        "print(f\"{ex1}: entropy = {entropy(ex1)}\\n{ex2}: entropy = {entropy(ex2)}\\n{ex3}: entropy = {entropy(ex3)}\\n\")\n",
        "print(f\"{ex1}: gini index = {gini(ex1)}\\n{ex2}: gini index = {gini(ex2)}\\n{ex3}: gini index = {gini(ex3)}\\n\")"
      ]
    },
    {
      "cell_type": "code",
      "execution_count": 17,
      "metadata": {
        "id": "G_t9N9fnOdon"
      },
      "outputs": [
        {
          "name": "stdout",
          "output_type": "stream",
          "text": [
            "Q2-1 max_depth=3:  0.73125\n"
          ]
        }
      ],
      "source": [
        "# For Q2-1, validation accuracy should be higher than or equal to 0.73\n",
        "\n",
        "np.random.seed(0) # You may adjust the seed number in all the cells\n",
        "\n",
        "dt_depth3 = DecisionTree(criterion='gini', max_features=None, max_depth=3)\n",
        "dt_depth3.fit(X_train, y_train, sample_weight=None)\n",
        "\n",
        "acc = accuracy_score(y_val, dt_depth3.predict(X_val))\n",
        "\n",
        "print(\"Q2-1 max_depth=3: \", acc)"
      ]
    },
    {
      "cell_type": "code",
      "execution_count": 18,
      "metadata": {
        "id": "T0HcgzMdjHRP"
      },
      "outputs": [],
      "source": [
        "\"\"\" Do Not Modify Below \"\"\"\n",
        "\n",
        "from sklearn.tree import DecisionTreeClassifier as SK_DecisionTreeClassifier\n",
        "\n",
        "sk_dt = SK_DecisionTreeClassifier(criterion='gini', max_depth=3)\n",
        "sk_dt.fit(X_train, y_train)\n",
        "sk_acc = accuracy_score(y_val, sk_dt.predict(X_val))\n",
        "\n",
        "assert round(acc, 3) == round(sk_acc, 3), \"Because the Decision Tree without any trick has a fixed answer, your accuracy should be the same as sklearn, otherwise your implementation might have some problems\""
      ]
    },
    {
      "cell_type": "code",
      "execution_count": 19,
      "metadata": {
        "id": "SjCPMr-eQ7jn"
      },
      "outputs": [
        {
          "name": "stdout",
          "output_type": "stream",
          "text": [
            "Q2-2 max_depth=10:  0.86125\n"
          ]
        }
      ],
      "source": [
        "# For Q2-2, validation accuracy should be higher than or equal to 0.85\n",
        "\n",
        "np.random.seed(0)\n",
        "\n",
        "dt_depth10 = DecisionTree(criterion='gini', max_features=None, max_depth=10)\n",
        "dt_depth10.fit(X_train, y_train, sample_weight=None)\n",
        "\n",
        "print(\"Q2-2 max_depth=10: \", accuracy_score(y_val,  dt_depth10.predict(X_val)))"
      ]
    },
    {
      "cell_type": "code",
      "execution_count": 20,
      "metadata": {
        "id": "iTbxGPrbO2jT"
      },
      "outputs": [
        {
          "name": "stdout",
          "output_type": "stream",
          "text": [
            "Q3-1 criterion='gini':  0.73125\n"
          ]
        }
      ],
      "source": [
        "# For Q3-1, validation accuracy should be higher than or equal to 0.73\n",
        "\n",
        "np.random.seed(0)\n",
        "\n",
        "dt_gini = DecisionTree(criterion='gini', max_features=None, max_depth=3)\n",
        "dt_gini.fit(X_train, y_train, sample_weight=None)\n",
        "\n",
        "print(\"Q3-1 criterion='gini': \", accuracy_score(y_val, dt_gini.predict(X_val)))\n"
      ]
    },
    {
      "cell_type": "code",
      "execution_count": 21,
      "metadata": {
        "id": "1XG7eAKUQ-YU"
      },
      "outputs": [
        {
          "name": "stdout",
          "output_type": "stream",
          "text": [
            "Q3-2 criterion='entropy':  0.77\n"
          ]
        }
      ],
      "source": [
        "# For Q3-2, validation accuracy should be higher than or equal to 0.77\n",
        "\n",
        "np.random.seed(0)\n",
        "\n",
        "dt_entropy = DecisionTree(criterion='entropy', max_features=None, max_depth=3)\n",
        "dt_entropy.fit(X_train, y_train, sample_weight=None)\n",
        "\n",
        "print(\"Q3-2 criterion='entropy': \", accuracy_score(y_val, dt_entropy.predict(X_val)))"
      ]
    },
    {
      "cell_type": "code",
      "execution_count": 22,
      "metadata": {
        "id": "joE89xabPsXg"
      },
      "outputs": [
        {
          "data": {
            "image/png": "[encoded data removed]",
            "text/plain": [
              "<Figure size 640x480 with 1 Axes>"
            ]
          },
          "metadata": {},
          "output_type": "display_data"
        }
      ],
      "source": [
        "# For Q4\n",
        "import matplotlib.pyplot as plt\n",
        "np.random.seed(0)\n",
        "dtree = DecisionTree(criterion='gini', max_features=None, max_depth=10)\n",
        "dtree.fit(X_train, y_train, sample_weight=None)\n",
        "\n",
        "# Prepare importance for plotting\n",
        "dtree.countImportance()\n",
        "\n",
        "X_importance = []\n",
        "for i in range(X_train.shape[1]):\n",
        "    cond = i in dtree.importance.keys()\n",
        "    # print(i, cond, X.shape[1])\n",
        "    if cond:\n",
        "        X_importance += [dtree.importance[i]]\n",
        "    else:\n",
        "        X_importance += [0]\n",
        "\n",
        "# Use simply counting to get the feature importance: dt_depth10.importance\n",
        "labelList=['Feature1', 'Feature2', 'Feature3', 'Feature4', 'Feature5', 'Feature6', 'Feature7']\n",
        "\n",
        "plt.grid('major', linewidth=1, zorder=0)\n",
        "plt.bar(np.arange(len(X_importance)), X_importance, 0.7, zorder=2)\n",
        "\n",
        "\n",
        "plt.xticks(np.arange(len(labelList)), labelList)\n",
        "plt.title('Feature Importance')\n",
        "plt.show()"
      ]
    },
    {
      "cell_type": "markdown",
      "metadata": {
        "id": "Wg97qz_xUGfP"
      },
      "source": [
        "# Questions for Random Rorest"
      ]
    },
    {
      "cell_type": "code",
      "execution_count": 23,
      "metadata": {
        "id": "SlrdIW1ERJ8F"
      },
      "outputs": [
        {
          "name": "stdout",
          "output_type": "stream",
          "text": [
            "Q5-1 n_estimators=10:  0.8775\n"
          ]
        }
      ],
      "source": [
        "# For Q5-1, validation accuracy should be higher than or equal to 0.88\n",
        "\n",
        "np.random.seed(0)\n",
        "\n",
        "rf_estimators10 = RandomForest(n_estimators=10, max_features=np.sqrt(X_train.shape[1]), boostrap=True, criterion='gini', max_depth=None)\n",
        "rf_estimators10.fit(X_train, y_train)\n",
        "\n",
        "print(\"Q5-1 n_estimators=10: \", accuracy_score(y_val, rf_estimators10.predict(X_val)))"
      ]
    },
    {
      "cell_type": "code",
      "execution_count": 24,
      "metadata": {
        "id": "4qcLuIkbRUfM"
      },
      "outputs": [
        {
          "name": "stdout",
          "output_type": "stream",
          "text": [
            "Q5-1 n_estimators=50:  0.89625\n"
          ]
        }
      ],
      "source": [
        "# For Q5-2, validation accuracy should be higher than or equal to 0.89\n",
        "\n",
        "np.random.seed(0)\n",
        "\n",
        "rf_estimators50 = RandomForest(n_estimators=50, max_features=np.sqrt(X_train.shape[1]), boostrap=True, criterion='gini', max_depth=None)\n",
        "rf_estimators50.fit(X_train, y_train)\n",
        "\n",
        "print(\"Q5-1 n_estimators=50: \", accuracy_score(y_val, rf_estimators50.predict(X_val)))"
      ]
    },
    {
      "cell_type": "code",
      "execution_count": 25,
      "metadata": {
        "id": "n-DbniYhRYmM"
      },
      "outputs": [
        {
          "name": "stdout",
          "output_type": "stream",
          "text": [
            "Q6-1 max_features='sqrt':  0.8775\n"
          ]
        }
      ],
      "source": [
        "# For Q6-1, validation accuracy should be higher than or equal to 0.88\n",
        "\n",
        "np.random.seed(0)\n",
        "    \n",
        "rf_maxfeature_sqrt = RandomForest(n_estimators=10, max_features=np.sqrt(X_train.shape[1]), boostrap=True, criterion='gini', max_depth=None)\n",
        "rf_maxfeature_sqrt.fit(X_train, y_train)\n",
        "\n",
        "print(\"Q6-1 max_features='sqrt': \", accuracy_score(y_val,  rf_maxfeature_sqrt.predict(X_val)))"
      ]
    },
    {
      "cell_type": "code",
      "execution_count": 26,
      "metadata": {
        "id": "PF9yufSaRffn"
      },
      "outputs": [
        {
          "name": "stdout",
          "output_type": "stream",
          "text": [
            "Q6-2 max_features='All':  0.87\n"
          ]
        }
      ],
      "source": [
        "# For Q6-2, validation accuracy should be higher than or equal to 0.86\n",
        "\n",
        "np.random.seed(0)\n",
        "\n",
        "rf_maxfeature_none = RandomForest(n_estimators=10, max_features=None, boostrap=True, criterion='gini', max_depth=None)\n",
        "rf_maxfeature_none.fit(X_train, y_train)\n",
        "\n",
        "print(\"Q6-2 max_features='All': \", accuracy_score(y_val, rf_maxfeature_none.predict(X_val)))"
      ]
    },
    {
      "cell_type": "markdown",
      "metadata": {
        "id": "UjopdAZqUKbF"
      },
      "source": [
        "# Train your own model"
      ]
    },
    {
      "cell_type": "code",
      "execution_count": 27,
      "metadata": {
        "id": "5cmxQjK3Rja9"
      },
      "outputs": [
        {
          "name": "stdout",
          "output_type": "stream",
          "text": [
            "Validation score:  0.90625\n"
          ]
        }
      ],
      "source": [
        "np.random.seed(0)\n",
        "\n",
        "model = RandomForest(n_estimators=50, max_features=4, boostrap=True, criterion='gini', max_depth=15)\n",
        "model.fit(X_train, y_train)\n",
        "\n",
        "print(\"Validation score: \", accuracy_score(y_val, model.predict(X_val)))"
      ]
    },
    {
      "cell_type": "code",
      "execution_count": 28,
      "metadata": {},
      "outputs": [
        {
          "data": {
            "text/plain": [
              "array([6, 5, 3, 3, 3, 2, 6, 6, 6, 3, 0, 3, 3, 2, 4, 3, 0, 3, 4, 3, 2, 3,\n",
              "       4, 3, 3, 6, 5, 0, 3, 5, 1, 6, 5, 6, 3, 2, 3, 0, 0, 3, 5, 3, 0, 3,\n",
              "       3, 6, 4, 4, 3, 2, 5, 2, 3, 5, 6, 4, 5, 6, 5, 3, 3, 5, 3, 2, 4, 5,\n",
              "       0, 0, 6, 1, 6, 2, 5, 3, 3, 3, 2, 0, 0, 3, 5, 6, 1, 6, 5, 0, 6, 6,\n",
              "       6, 6, 0, 4, 3, 6, 4, 0, 4, 1, 6, 6, 5, 5, 2, 3, 2, 6, 6, 3, 6, 3,\n",
              "       1, 4, 5, 5, 3, 3, 3, 6, 5, 5, 1, 3, 1, 6, 2, 3, 6, 4, 3, 5, 2, 3,\n",
              "       6, 5, 4, 5, 3, 6, 3, 6, 0, 5, 6, 4, 0, 5, 6, 4, 5, 1, 6, 5, 3, 2,\n",
              "       6, 6, 2, 2, 6, 5, 0, 6, 0, 5, 6, 5, 6, 6, 3, 5, 6, 3, 6, 3, 5, 5,\n",
              "       6, 2, 6, 4, 0, 6, 0, 4, 4, 5, 6, 0, 5, 3, 4, 6, 3, 4, 3, 4, 3, 5,\n",
              "       0, 5, 4, 3, 4, 4, 3, 6, 0, 5, 5, 5, 6, 5, 4, 0, 0, 2, 5, 6, 4, 1,\n",
              "       0, 3, 6, 4, 6, 2, 5, 5, 4, 5, 2, 2, 5, 3, 3, 4, 6, 2, 5, 0, 3, 3,\n",
              "       4, 3, 4, 3, 3, 4, 2, 3, 5, 4, 0, 0, 3, 0, 1, 1, 6, 3, 6, 1, 6, 3,\n",
              "       3, 3, 5, 5, 4, 2, 3, 3, 3, 6, 3, 6, 5, 6, 3, 4, 6, 3, 2, 1, 2, 3,\n",
              "       3, 6, 3, 6, 3, 3, 5, 5, 3, 4, 3, 2, 6, 6, 0, 3, 6, 3, 3, 0, 0, 5,\n",
              "       2, 2, 3, 4, 3, 2, 5, 0, 6, 0, 0, 6, 1, 3, 4, 3, 0, 3, 2, 3, 2, 3,\n",
              "       2, 2, 2, 6, 5, 6, 2, 0, 3, 4, 0, 6, 4, 5, 3, 6, 4, 2, 4, 3, 3, 4,\n",
              "       4, 0, 3, 0, 3, 4, 3, 2, 6, 2, 4, 3, 4, 0, 3, 0, 5, 3, 2, 6, 3, 4,\n",
              "       4, 6, 0, 6, 5, 6, 3, 5, 6, 5, 0, 3, 6, 6, 4, 3, 2, 6, 2, 6, 6, 3,\n",
              "       2, 5, 3, 0, 3, 3, 6, 4, 3, 3, 5, 5, 6, 2, 0, 3, 3, 5, 3, 1, 3, 3,\n",
              "       3, 5, 6, 4, 0, 3, 3, 3, 4, 3, 1, 4, 3, 4, 4, 2, 3, 4, 3, 4, 5, 3,\n",
              "       0, 1, 5, 0, 3, 4, 6, 0, 3, 6, 6, 6, 3, 0, 3, 3, 3, 3, 5, 6, 3, 6,\n",
              "       6, 6, 5, 4, 2, 6, 3, 3, 4, 4, 5, 5, 4, 5, 4, 6, 0, 3, 3, 6, 1, 5,\n",
              "       3, 0, 3, 0, 3, 5, 3, 0, 2, 3, 5, 6, 4, 5, 4, 2, 5, 6, 2, 3, 6, 3,\n",
              "       3, 3, 6, 6, 3, 5, 0, 4, 5, 6, 0, 0, 5, 3, 6, 5, 3, 5, 0, 5, 0, 6,\n",
              "       2, 0, 6, 6, 2, 3, 4, 3, 6, 6, 3, 4, 6, 3, 5, 3, 3, 3, 5, 3, 6, 4,\n",
              "       0, 3, 1, 0, 0, 0, 2, 0, 5, 3, 4, 2, 4, 0, 0, 6, 3, 3, 5, 1, 3, 3,\n",
              "       2, 3, 3, 4, 6, 3, 5, 5, 4, 5, 4, 0, 4, 3, 5, 3, 3, 1, 5, 5, 4, 1,\n",
              "       3, 5, 0, 2, 0, 2, 6, 6, 6, 6, 5, 3, 3, 5, 0, 6, 4, 4, 1, 5, 3, 3,\n",
              "       2, 2, 0, 4, 3, 3, 3, 3, 5, 3, 2, 6, 0, 0, 2, 0, 3, 4, 1, 5, 3, 6,\n",
              "       3, 5, 2, 0, 5, 4, 3, 6, 3, 3, 0, 3, 3, 4, 3, 4, 6, 5, 3, 5, 4, 4,\n",
              "       2, 0, 6, 2, 4, 4, 3, 3, 2, 6, 2, 2, 0, 3, 0, 2, 0, 2, 4, 3, 5, 4,\n",
              "       3, 3, 6, 5, 3, 3, 2, 3, 2, 6, 4, 5, 3, 2, 2, 6, 4, 2, 3, 3, 2, 2,\n",
              "       6, 4, 2, 3, 6, 2, 3, 6, 3, 6, 5, 3, 3, 5, 6, 3, 3, 2, 3, 3, 3, 6,\n",
              "       4, 4, 3, 3, 1, 4, 2, 0, 3, 5, 6, 3, 6, 3, 3, 0, 3, 2, 1, 2, 3, 2,\n",
              "       5, 6, 6, 3, 4, 6, 2, 6, 3, 5, 5, 0, 3, 6, 3, 2, 3, 6, 6, 3, 3, 3,\n",
              "       4, 4, 4, 0, 3, 2, 6, 6, 4, 4, 0, 3, 5, 2, 0, 5, 6, 3, 3, 1, 2, 5,\n",
              "       6, 6, 6, 4, 5, 6, 0, 5])"
            ]
          },
          "execution_count": 28,
          "metadata": {},
          "output_type": "execute_result"
        }
      ],
      "source": [
        "test_pred = model.predict(X_test)\n",
        "test_pred"
      ]
    },
    {
      "cell_type": "code",
      "execution_count": 29,
      "metadata": {
        "id": "XCaZ4yFuR34B"
      },
      "outputs": [],
      "source": [
        "# output csv\n",
        "df_test = pd.DataFrame(pd.read_csv(\"./PR_HW3_Test.csv\"))\n",
        "df_test[\"Target\"] = test_pred\n",
        "df_test.to_csv(\"prediction.csv\")"
      ]
    },
    {
      "cell_type": "code",
      "execution_count": null,
      "metadata": {},
      "outputs": [],
      "source": []
    },
    {
      "cell_type": "code",
      "execution_count": 30,
      "metadata": {},
      "outputs": [
        {
          "name": "stdout",
          "output_type": "stream",
          "text": [
            "Train acc:  1.0\n"
          ]
        }
      ],
      "source": [
        "# Q Part 2.1\n",
        "np.random.seed(0) # You may adjust the seed number in all the cells\n",
        "\n",
        "dt_depth3 = DecisionTree(criterion='gini', max_features=None, max_depth=None)\n",
        "dt_depth3.fit(X_train, y_train, sample_weight=None)\n",
        "\n",
        "acc = accuracy_score(y_train, dt_depth3.predict(X_train))\n",
        "\n",
        "print(\"Train acc: \", acc)"
      ]
    },
    {
      "cell_type": "code",
      "execution_count": 31,
      "metadata": {},
      "outputs": [
        {
          "name": "stdout",
          "output_type": "stream",
          "text": [
            "A 1 0\n",
            "B 0 1\n",
            "A gini: 0.4444444444444444 0.0\n",
            "B gini: 0.375 0.375\n",
            "A entropy: 0.9182958311690995 -1.4426951595367387e-09\n",
            "B entropy: 0.8112781215737428 0.8112781215737428\n"
          ]
        }
      ],
      "source": [
        "# Q PART 2.3\n",
        "import numpy as np\n",
        "C1 = np.zeros(400)\n",
        "C2 = np.zeros(400) +1\n",
        "\n",
        "# Tree model A\n",
        "Aleaf_11 = (C1[:200], C2)\n",
        "Aleaf_12 = (C1[:200], C1[:0])\n",
        "\n",
        "# Tree model B\n",
        "Bleaf_11 = (C1[:300], C2[:100])\n",
        "Bleaf_12 = (C1[:100], C2[:300])\n",
        "\n",
        "Aleaf_11_c = np.concatenate(Aleaf_11)\n",
        "Aleaf_12_c = np.concatenate(Aleaf_12)\n",
        "\n",
        "Aleaf_11_class = np.argmax(np.bincount(Aleaf_11_c.astype(int)))\n",
        "Aleaf_12_class = np.argmax(np.bincount(Aleaf_12_c.astype(int)))\n",
        "print('A', Aleaf_11_class, Aleaf_12_class)\n",
        "\n",
        "Bleaf_11_c = np.concatenate(Bleaf_11)\n",
        "Bleaf_12_c = np.concatenate(Bleaf_12)\n",
        "\n",
        "Bleaf_11_class = np.argmax(np.bincount(Bleaf_11_c.astype(int)))\n",
        "Bleaf_12_class = np.argmax(np.bincount(Bleaf_12_c.astype(int)))\n",
        "print('B', Bleaf_11_class, Bleaf_12_class)\n",
        "################################################################\n",
        "print('A gini:', gini(Aleaf_11_c), gini(Aleaf_12_c))\n",
        "print('B gini:', gini(Bleaf_11_c), gini(Bleaf_12_c))\n",
        "\n",
        "print('A entropy:', entropy(Aleaf_11_c), entropy(Aleaf_12_c))\n",
        "print('B entropy:', entropy(Bleaf_11_c), entropy(Bleaf_12_c))\n",
        "\n"
      ]
    },
    {
      "cell_type": "code",
      "execution_count": null,
      "metadata": {},
      "outputs": [],
      "source": []
    }
  ],
  "metadata": {
    "colab": {
      "collapsed_sections": [
        "YV1MHt_VTg9f"
      ],
      "provenance": []
    },
    "kernelspec": {
      "display_name": "Python 3",
      "name": "python3"
    },
    "language_info": {
      "codemirror_mode": {
        "name": "ipython",
        "version": 3
      },
      "file_extension": ".py",
      "mimetype": "text/x-python",
      "name": "python",
      "nbconvert_exporter": "python",
      "pygments_lexer": "ipython3",
      "version": "3.10.9"
    }
  },
  "nbformat": 4,
  "nbformat_minor": 0
}
